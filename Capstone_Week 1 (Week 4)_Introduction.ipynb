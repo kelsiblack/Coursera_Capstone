{
    "cells": [
        {
            "cell_type": "markdown",
            "metadata": {
                "collapsed": true
            },
            "source": "# The Battle of Neighborhoods Week 1 (Week 4)"
        },
        {
            "cell_type": "markdown",
            "metadata": {},
            "source": "## In this notebook we will be explore Toronto for new restaurants"
        },
        {
            "cell_type": "markdown",
            "metadata": {},
            "source": "### Description: "
        },
        {
            "cell_type": "markdown",
            "metadata": {},
            "source": "In this project we will explore Toronto's city data. Here we will try to find if someone wants to open a new restaurant in the city, which location is best. Some considerations include nearby competitors and which income group of people will be attracted most to it based on the population of the neighborhood."
        },
        {
            "cell_type": "markdown",
            "metadata": {},
            "source": "### Background:"
        },
        {
            "cell_type": "markdown",
            "metadata": {},
            "source": "Toronto is the provincial capital of Ontario and the most populous city in Canada, with a population of 2,731,571 as of 2016. Current to 2016, the Toronto census metropolitan area (CMA), of which the majority is within the Greater Toronto Area (GTA), held a population of 5,928,040, making it Canada's most populous CMA. The city is the anchor of the Golden Horseshoe, an urban agglomeration of 9,245,438 people (as of 2016) surrounding the western end of Lake Ontario. Toronto is an international center of business, finance, arts, and culture, and is recognized as one of the most multicultural and cosmopolitan cities in the world."
        },
        {
            "cell_type": "markdown",
            "metadata": {},
            "source": "### Target Audience:"
        },
        {
            "cell_type": "markdown",
            "metadata": {},
            "source": "New businesses who want to open a restaurant in Toronto."
        },
        {
            "cell_type": "markdown",
            "metadata": {},
            "source": "This project will try to solve the above problem by suggesting to the Target Audience which is the best locality to open new restaurants and gaining maximum profits in Toronto."
        },
        {
            "cell_type": "code",
            "execution_count": null,
            "metadata": {},
            "outputs": [],
            "source": ""
        }
    ],
    "metadata": {
        "kernelspec": {
            "display_name": "Python 3.6",
            "language": "python",
            "name": "python3"
        },
        "language_info": {
            "codemirror_mode": {
                "name": "ipython",
                "version": 3
            },
            "file_extension": ".py",
            "mimetype": "text/x-python",
            "name": "python",
            "nbconvert_exporter": "python",
            "pygments_lexer": "ipython3",
            "version": "3.6.9"
        }
    },
    "nbformat": 4,
    "nbformat_minor": 1
}